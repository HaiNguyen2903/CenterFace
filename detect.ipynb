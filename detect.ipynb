{
 "metadata": {
  "language_info": {
   "codemirror_mode": {
    "name": "ipython",
    "version": 3
   },
   "file_extension": ".py",
   "mimetype": "text/x-python",
   "name": "python",
   "nbconvert_exporter": "python",
   "pygments_lexer": "ipython3",
   "version": "3.9.5"
  },
  "orig_nbformat": 4,
  "kernelspec": {
   "name": "python3",
   "display_name": "Python 3.9.5 64-bit ('face-detection': conda)"
  },
  "interpreter": {
   "hash": "74ed702a87873f9655286fcd8f36ea3c1b909542413a0a130a63537c66fc1ff6"
  }
 },
 "nbformat": 4,
 "nbformat_minor": 2,
 "cells": [
  {
   "cell_type": "code",
   "execution_count": 1,
   "metadata": {},
   "outputs": [],
   "source": [
    "from data.wider_face import *\n",
    "from models.model import *\n",
    "import matplotlib.pyplot as plt\n",
    "import matplotlib.patches as patches\n",
    "from models.decode import *\n",
    "from config import *\n",
    "import torch\n",
    "from PIL import Image, ImageDraw"
   ]
  },
  {
   "cell_type": "code",
   "execution_count": 3,
   "metadata": {},
   "outputs": [],
   "source": [
    "img_path = '/Users/hainguyen/Documents/deep_learning_projects/datasets/wider_face/WIDER_train/images/1--Handshaking/1_Handshaking_Handshaking_1_65.jpg'\n",
    "\n",
    "g_path = '/Users/hainguyen/Documents/deep_learning_projects/datasets/wider_face/WIDER_train/images/1--Handshaking/1_Handshaking_Handshaking_1_65.jpg'\n",
    "\n",
    "inp = cv2.imread(img_path)\n",
    "inp = cv2.resize(inp, (800, 800))\n",
    "\n",
    "mean = np.array([0.40789654, 0.44719302, 0.47026115], dtype=np.float32).reshape(1, 1, 3)\n",
    "std  = np.array([0.28863828, 0.27408164, 0.27809835], dtype=np.float32).reshape(1, 1, 3)\n",
    "\n",
    "inp = (inp.astype(np.float32) / 255.)\n",
    "inp = (inp - mean) / std\n",
    "inp = inp.transpose(2, 0, 1)\n",
    "\n",
    "input = torch.from_numpy(inp)"
   ]
  },
  {
   "cell_type": "code",
   "execution_count": 5,
   "metadata": {},
   "outputs": [],
   "source": [
    "heads = {\n",
    "                'hm': 1,\n",
    "                'wh': 2,\n",
    "                \"hm_offset\": 2,\n",
    "                \"landmarks\": 10\n",
    "            }\n",
    "    \n",
    "model = MobileNetSeg(base_name='mobilenetv2_10', heads=heads)\n",
    "\n",
    "weights = torch.load('/Users/hainguyen/Documents/deep_learning_projects/face_detection/model_best.pth', map_location=torch.device('cpu'))\n",
    "state_dict = weights['state_dict']\n",
    "\n",
    "load_model(model, state_dict)\n",
    "model.eval()\n",
    "\n",
    "with torch.no_grad():\n",
    "    out = model(torch.unsqueeze(input, 0))\n",
    "\n",
    "out_hm = out[0]['hm']\n",
    "out_offset = out[0]['hm_offset']\n",
    "out_landmarks = out[0]['landmarks']\n",
    "out_wh = out[0]['wh']"
   ]
  },
  {
   "cell_type": "code",
   "execution_count": 1,
   "metadata": {},
   "outputs": [
    {
     "output_type": "error",
     "ename": "NameError",
     "evalue": "name 'out_hm' is not defined",
     "traceback": [
      "\u001b[0;31m---------------------------------------------------------------------------\u001b[0m",
      "\u001b[0;31mNameError\u001b[0m                                 Traceback (most recent call last)",
      "\u001b[0;32m<ipython-input-1-eb110b10e79f>\u001b[0m in \u001b[0;36m<module>\u001b[0;34m\u001b[0m\n\u001b[0;32m----> 1\u001b[0;31m \u001b[0mout_hm\u001b[0m\u001b[0;34m\u001b[0m\u001b[0;34m\u001b[0m\u001b[0m\n\u001b[0m",
      "\u001b[0;31mNameError\u001b[0m: name 'out_hm' is not defined"
     ]
    }
   ],
   "source": [
    "out_hm"
   ]
  },
  {
   "cell_type": "code",
   "execution_count": 2,
   "metadata": {},
   "outputs": [],
   "source": [
    "\n",
    "def detect_image(img_path):\n",
    "    inp = cv2.imread(img_path)\n",
    "    inp = cv2.resize(inp, (800, 800))\n",
    "\n",
    "    mean = np.array([0.40789654, 0.44719302, 0.47026115], dtype=np.float32).reshape(1, 1, 3)\n",
    "    std  = np.array([0.28863828, 0.27408164, 0.27809835], dtype=np.float32).reshape(1, 1, 3)\n",
    "\n",
    "    inp = (inp.astype(np.float32) / 255.)\n",
    "    inp = (inp - mean) / std\n",
    "    inp = inp.transpose(2, 0, 1)\n",
    "    input = torch.from_numpy(inp)\n",
    "\n",
    "    heads = {\n",
    "                'hm': 1,\n",
    "                'wh': 2,\n",
    "                \"hm_offset\": 2,\n",
    "                \"landmarks\": 10\n",
    "            }\n",
    "    \n",
    "    model = MobileNetSeg(base_name='mobilenetv2_10', heads=heads)\n",
    "\n",
    "    weights = torch.load('/Users/hainguyen/Documents/deep_learning_projects/face_detection/model_best.pth', map_location=torch.device('cpu'))\n",
    "    state_dict = weights['state_dict']\n",
    "\n",
    "    load_model(model, state_dict)\n",
    "    model.eval()\n",
    "\n",
    "    with torch.no_grad():\n",
    "        out = model(torch.unsqueeze(input, 0))\n",
    "\n",
    "    out_hm = out[0]['hm']\n",
    "    out_offset = out[0]['hm_offset']\n",
    "    out_landmarks = out[0]['landmarks']\n",
    "    out_wh = out[0]['wh']\n",
    "\n",
    "    with torch.no_grad():\n",
    "        decode = centerface_decode(out_hm, out_wh, out_landmarks, out_offset)\n",
    "\n",
    "    img_decode = decode[0]\n",
    "    bboxes = []\n",
    "    for i in range(img_decode.shape[0]):\n",
    "        bboxes.append(img_decode[i][:5])\n",
    "\n",
    "    visualize_result(img_path, bboxes)\n",
    "\n",
    "\n",
    "def visualize_result(img_path, anns, confidence = 0.3):\n",
    "    img =  cv2.imread(img_path)\n",
    "    img = img.transpose(1,2,0)\n",
    "    fig, ax = plt.subplots()\n",
    "\n",
    "    ax.imshow(cv2.cvtColor(img, cv2.COLOR_BGR2RGB))\n",
    "\n",
    "    for ann in anns:\n",
    "        # the segmentation are in format (x1, y1, x2, y2) (top left and bottom right points) \n",
    "        # (after convert from coco format to box format)\n",
    "        # coco format (top left x, top left y, width, height)\n",
    "        x1 = ann[0] \n",
    "        y1 = ann[1] \n",
    "        x2 = ann[2] \n",
    "        y2 = ann[3]\n",
    "\n",
    "        if ann[4] > confidence:\n",
    "            rect = patches.Rectangle((x1*4, y1*4), (x2-x1)*4, (y2-y1)*4, linewidth=1, edgecolor='r', facecolor='none')\n",
    "            ax.add_patch(rect)\n",
    "    plt.show()\n",
    "\n",
    "# if __name__ == '__main__':\n",
    "img_path = '/Users/hainguyen/Documents/deep_learning_projects/datasets/wider_face/WIDER_train/images/1--Handshaking/1_Handshaking_Handshaking_1_65.jpg'\n",
    "detect_image(img_path)\n",
    "\n",
    "\n"
   ]
  },
  {
   "cell_type": "code",
   "execution_count": 4,
   "metadata": {},
   "outputs": [],
   "source": [
    "import cv2\n",
    "from data.wider_face import *\n",
    "from models.model import *\n",
    "import matplotlib.pyplot as plt\n",
    "import matplotlib.patches as patches\n",
    "from models.decode import *\n",
    "from config import *\n",
    "import torch\n",
    "from PIL import Image, ImageDraw\n",
    "\n",
    "img_path = '/Users/hainguyen/Documents/deep_learning_projects/datasets/wider_face/WIDER_train/images/1--Handshaking/1_Handshaking_Handshaking_1_65.jpg'\n",
    "inp = cv2.imread(img_path)\n",
    "inp = cv2.resize(inp, (800, 800))\n",
    "\n",
    "mean = np.array([0.40789654, 0.44719302, 0.47026115], dtype=np.float32).reshape(1, 1, 3)\n",
    "std  = np.array([0.28863828, 0.27408164, 0.27809835], dtype=np.float32).reshape(1, 1, 3)\n",
    "\n",
    "inp = (inp.astype(np.float32) / 255.)\n",
    "inp = (inp - mean) / std\n",
    "inp = inp.transpose(2, 0, 1)\n",
    "input = torch.from_numpy(inp)\n",
    "\n",
    "heads = {\n",
    "            'hm': 1,\n",
    "            'wh': 2,\n",
    "            \"hm_offset\": 2,\n",
    "            \"landmarks\": 10\n",
    "        }\n",
    "\n",
    "model = MobileNetSeg(base_name='mobilenetv2_10', heads=heads)\n",
    "\n",
    "weights = torch.load('/Users/hainguyen/Documents/deep_learning_projects/face_detection/model_best.pth', map_location=torch.device('cpu'))\n",
    "state_dict = weights['state_dict']\n",
    "\n",
    "load_model(model, state_dict)\n",
    "model.eval()\n",
    "\n",
    "with torch.no_grad():\n",
    "    out = model(torch.unsqueeze(input, 0))\n",
    "\n",
    "out_hm = out[0]['hm']\n",
    "out_offset = out[0]['hm_offset']\n",
    "out_landmarks = out[0]['landmarks']\n",
    "out_wh = out[0]['wh']\n",
    "\n",
    "with torch.no_grad():\n",
    "    decode = centerface_decode(out_hm, out_wh, out_landmarks, out_offset)\n",
    "\n",
    "img_decode = decode[0]\n",
    "bboxes = []\n",
    "for i in range(img_decode.shape[0]):\n",
    "    bboxes.append(img_decode[i][:5])\n",
    "\n",
    "visualize_result(img_path, bboxes)"
   ]
  },
  {
   "cell_type": "code",
   "execution_count": 1,
   "metadata": {},
   "outputs": [
    {
     "output_type": "error",
     "ename": "NameError",
     "evalue": "name 'plt' is not defined",
     "traceback": [
      "\u001b[0;31m---------------------------------------------------------------------------\u001b[0m",
      "\u001b[0;31mNameError\u001b[0m                                 Traceback (most recent call last)",
      "\u001b[0;32m<ipython-input-1-2fd7779dd0d9>\u001b[0m in \u001b[0;36m<module>\u001b[0;34m\u001b[0m\n\u001b[0;32m----> 1\u001b[0;31m \u001b[0mplt\u001b[0m\u001b[0;34m.\u001b[0m\u001b[0mimshow\u001b[0m\u001b[0;34m(\u001b[0m\u001b[0minp\u001b[0m\u001b[0;34m)\u001b[0m\u001b[0;34m\u001b[0m\u001b[0;34m\u001b[0m\u001b[0m\n\u001b[0m",
      "\u001b[0;31mNameError\u001b[0m: name 'plt' is not defined"
     ]
    }
   ],
   "source": [
    "plt.imshow(inp)"
   ]
  },
  {
   "cell_type": "code",
   "execution_count": null,
   "metadata": {},
   "outputs": [],
   "source": []
  }
 ]
}